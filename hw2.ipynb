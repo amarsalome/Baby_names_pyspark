{
 "cells": [
  {
   "cell_type": "markdown",
   "metadata": {
    "format": "text/markdown"
   },
   "source": [
    "\n",
    "\n",
    "# Start the `spark` session\n",
    "\n",
    "> For SQL users, Spark SQL provides state-of-the-art SQL performance and maintains compatibility with Shark/Hive. In particular, like Shark, Spark SQL supports all existing Hive data formats, user-defined functions (UDF), and the Hive metastore.\n",
    "\n",
    "> For Spark users, Spark SQL becomes the narrow-waist for manipulating (semi-) structured data as well as ingesting data from sources that provide schema, such as JSON, Parquet, Hive, or EDWs. It truly unifies SQL and sophisticated analysis, allowing users to mix and match SQL and more imperative programming APIs for advanced analytics.\n",
    "\n",
    "> For open source hackers, Spark SQL proposes a novel, elegant way of building query planners. It is incredibly easy to add new optimizations under this framework.\n",
    "\n",
    "> Internally, a structured query is a Catalyst tree of (logical and physical) relational operators and expressions.\n",
    "\n",
    "\n"
   ]
  },
  {
   "cell_type": "code",
   "execution_count": 2,
   "metadata": {
    "ExecuteTime": {
     "end_time": "2020-03-05T16:17:23.621918Z",
     "start_time": "2020-03-05T16:17:20.506980Z"
    },
    "autoscroll": "auto",
    "options": {
     "caption": false,
     "complete": true,
     "display_data": true,
     "display_stream": true,
     "dpi": 200,
     "echo": true,
     "evaluate": false,
     "f_env": null,
     "f_pos": "htpb",
     "f_size": [
      6,
      4
     ],
     "f_spines": true,
     "fig": true,
     "include": true,
     "name": null,
     "option_string": "evaluate=False",
     "results": "verbatim",
     "term": false,
     "wrap": "output"
    }
   },
   "outputs": [],
   "source": [
    "import pandas as pd\n",
    "import numpy as np\n",
    "import matplotlib.pyplot as plt\n",
    "import os\n",
    "from pathlib import Path\n",
    "import sys\n",
    "import timeit\n",
    "\n",
    "%matplotlib inline\n",
    "import seaborn as sns\n",
    "\n",
    "sns.set_context(\"notebook\", font_scale=1.2)"
   ]
  },
  {
   "cell_type": "markdown",
   "metadata": {
    "format": "text/markdown"
   },
   "source": [
    "During the session, we will use classes and functions exported by `pyspark`\n"
   ]
  },
  {
   "cell_type": "code",
   "execution_count": 3,
   "metadata": {
    "ExecuteTime": {
     "end_time": "2020-03-05T16:17:27.975130Z",
     "start_time": "2020-03-05T16:17:27.809593Z"
    },
    "autoscroll": "auto",
    "options": {
     "caption": false,
     "complete": true,
     "display_data": true,
     "display_stream": true,
     "dpi": 200,
     "echo": true,
     "evaluate": false,
     "f_env": null,
     "f_pos": "htpb",
     "f_size": [
      6,
      4
     ],
     "f_spines": true,
     "fig": true,
     "include": true,
     "name": null,
     "option_string": "evaluate=False",
     "results": "verbatim",
     "term": false,
     "wrap": "output"
    }
   },
   "outputs": [],
   "source": [
    "# spark\n",
    "from pyspark import SparkConf, SparkContext\n",
    "from pyspark.sql import SparkSession\n",
    "from pyspark.sql import Window\n",
    "from pyspark.sql.functions import col\n",
    "import pyspark.sql.functions as fn\n",
    "from pyspark.sql.catalog import Catalog\n",
    "from pyspark.sql.types import StructType, StructField\n",
    "from pyspark.sql.types import IntegerType, StringType"
   ]
  },
  {
   "cell_type": "markdown",
   "metadata": {},
   "source": [
    "Start the `SparkSession`"
   ]
  },
  {
   "cell_type": "code",
   "execution_count": 4,
   "metadata": {
    "ExecuteTime": {
     "end_time": "2020-03-05T16:24:00.278132Z",
     "start_time": "2020-03-05T16:24:00.267003Z"
    },
    "autoscroll": "auto",
    "options": {
     "caption": false,
     "complete": true,
     "display_data": true,
     "display_stream": true,
     "dpi": 200,
     "echo": true,
     "evaluate": false,
     "f_env": null,
     "f_pos": "htpb",
     "f_size": [
      6,
      4
     ],
     "f_spines": true,
     "fig": true,
     "include": true,
     "name": null,
     "option_string": "evaluate=False",
     "results": "verbatim",
     "term": false,
     "wrap": "output"
    }
   },
   "outputs": [],
   "source": [
    "conf = SparkConf().setAppName(\"Spark SQL Illustrations\")\n",
    "sc = SparkContext(conf=conf)\n",
    "\n",
    "spark = (SparkSession\n",
    "    .builder\n",
    "    .appName(\"Spark SQL\")\n",
    "    .getOrCreate()\n",
    ")"
   ]
  },
  {
   "cell_type": "markdown",
   "metadata": {
    "format": "text/markdown"
   },
   "source": [
    "\n",
    "US Baby Names 1880-2017\n",
    "=======================\n",
    "\n",
    "\n",
    "Description\n",
    ": US baby names provided by the SSA. \n",
    "\n",
    "This dataset contains all names used\n",
    "for at least 5 children of either sex during a year. \n",
    "\n",
    "\n",
    "The file is made of `1924665` lines and  4 columns.\n",
    "\n",
    "```\n",
    "|-- name: string (nullable = true)\n",
    "    |-- n: integer (nullable = true)\n",
    "    |-- sex: string (nullable = true)\n",
    "    |-- year: integer (nullable = true)\n",
    "```\n",
    "\n",
    "Each row indicates for a given name, sex, and year the number of babies \n",
    "of the given sex who were given that name during the given year. Names \n",
    "with less than 5 occurrences during the year were note recorded. \n",
    "\n",
    "|    name|  n|sex|year|\n",
    "|:--------|:---:|:---:|:----:|\n",
    "|  Emilia|112|  F|1985|\n",
    "|   Kelsi|112|  F|1985|\n",
    "|  Margot|112|  F|1985|\n",
    "|  Mariam|112|  F|1985|\n",
    "|Scarlett|112|  F|1985|\n",
    "\n",
    "Load `babynames` from a `csv` file"
   ]
  },
  {
   "cell_type": "code",
   "execution_count": 7,
   "metadata": {
    "ExecuteTime": {
     "end_time": "2020-03-05T16:17:57.496767Z",
     "start_time": "2020-03-05T16:17:52.796529Z"
    },
    "autoscroll": "auto",
    "options": {
     "caption": false,
     "complete": true,
     "display_data": true,
     "display_stream": true,
     "dpi": 200,
     "echo": true,
     "evaluate": false,
     "f_env": null,
     "f_pos": "htpb",
     "f_size": [
      6,
      4
     ],
     "f_spines": true,
     "fig": true,
     "include": true,
     "name": null,
     "option_string": "evaluate=False",
     "results": "verbatim",
     "term": false,
     "wrap": "output"
    }
   },
   "outputs": [
    {
     "name": "stdout",
     "output_type": "stream",
     "text": [
      "root\n",
      " |-- name: string (nullable = true)\n",
      " |-- n: integer (nullable = true)\n",
      " |-- sex: string (nullable = true)\n",
      " |-- year: double (nullable = true)\n",
      "\n"
     ]
    }
   ],
   "source": [
    "df_sp = spark.read\\\n",
    "             .format('csv')\\\n",
    "             .option(\"header\", \"true\")\\\n",
    "             .option(\"mode\", \"FAILFAST\")\\\n",
    "             .option(\"inferSchema\", \"true\")\\\n",
    "             .option(\"sep\", \",\")\\\n",
    "             .load(\"./babynames_short.csv\")\n",
    "\n",
    "df_sp.printSchema()"
   ]
  },
  {
   "cell_type": "markdown",
   "metadata": {
    "format": "text/markdown"
   },
   "source": [
    "\n",
    "Ensure that the dataframe has the following schema:\n",
    "\n",
    "    root\n",
    "        |-- name: string (nullable = true)\n",
    "        |-- n: integer (nullable = true)\n",
    "        |-- sex: string (nullable = true)\n",
    "        |-- year: integer (nullable = true)\n",
    "\n",
    "\n"
   ]
  },
  {
   "cell_type": "code",
   "execution_count": 8,
   "metadata": {
    "ExecuteTime": {
     "end_time": "2020-03-05T16:18:10.750933Z",
     "start_time": "2020-03-05T16:18:10.605549Z"
    },
    "autoscroll": "auto",
    "options": {
     "caption": false,
     "complete": true,
     "display_data": true,
     "display_stream": true,
     "dpi": 200,
     "echo": true,
     "evaluate": false,
     "f_env": null,
     "f_pos": "htpb",
     "f_size": [
      6,
      4
     ],
     "f_spines": true,
     "fig": true,
     "include": true,
     "name": null,
     "option_string": "evaluate=False",
     "results": "verbatim",
     "term": false,
     "wrap": "output"
    }
   },
   "outputs": [
    {
     "name": "stdout",
     "output_type": "stream",
     "text": [
      "root\n",
      " |-- name: string (nullable = true)\n",
      " |-- n: integer (nullable = true)\n",
      " |-- sex: string (nullable = true)\n",
      " |-- year: integer (nullable = true)\n",
      "\n"
     ]
    }
   ],
   "source": [
    "df_sp = df_sp.withColumn(\"year\", df_sp.year.cast(\"int\"))\n",
    "df_sp.printSchema()"
   ]
  },
  {
   "cell_type": "markdown",
   "metadata": {
    "format": "text/markdown"
   },
   "source": [
    "SQL versus spark-Dataframe API\n",
    "=================================\n",
    "\n",
    ">  Dataset API vs SQL\n",
    "\n",
    "> Spark SQL supports two \"modes\" to write structured queries: Dataset API and SQL. SQL Mode is used to express structured queries using SQL statements using SparkSession.sql operator, expr standard function and spark-sql command-line tool.\n",
    "\n",
    "> Some structured queries can be expressed much easier using Dataset API, but there are some that are only possible in SQL. In other words, you may find mixing Dataset API and SQL modes challenging yet rewarding.\n",
    "\n",
    "> What is important, and one of the reasons why Spark SQL has been so successful, is that there is no performance difference between the modes. Whatever mode you use to write your structured queries, they all end up as a tree of Catalyst relational data structures. And, yes, you could consider writing structured queries using Catalyst directly, but that could quickly become unwieldy for maintenance (i.e. finding Spark SQL developers who could be comfortable with it as well as being fairly low-level and therefore possibly too dependent on a specific Spark SQL version).\n",
    "\n",
    "Warmup:  compute the 10 most popular names given to babies in year 2000.\n",
    "======================================================================\n",
    "\n",
    "## Using `spark.sql()`\n",
    "\n",
    "In order to use mode `sql`, create a temporary view from the `DataFrame`.\n",
    "\n",
    "1. What are temporary views made of?\n",
    "1. Are there other kind of views in spark's world?"
   ]
  },
  {
   "cell_type": "code",
   "execution_count": 9,
   "metadata": {
    "ExecuteTime": {
     "end_time": "2020-03-05T16:18:29.094431Z",
     "start_time": "2020-03-05T16:18:28.707140Z"
    },
    "autoscroll": "auto",
    "options": {
     "caption": false,
     "complete": true,
     "display_data": true,
     "display_stream": true,
     "dpi": 200,
     "echo": true,
     "evaluate": false,
     "f_env": null,
     "f_pos": "htpb",
     "f_size": [
      6,
      4
     ],
     "f_spines": true,
     "fig": true,
     "include": true,
     "name": null,
     "option_string": "evaluate=False",
     "results": "verbatim",
     "term": false,
     "wrap": "output"
    }
   },
   "outputs": [
    {
     "data": {
      "text/plain": [
       "[Table(name='babynames', database=None, description=None, tableType='TEMPORARY', isTemporary=True)]"
      ]
     },
     "execution_count": 9,
     "metadata": {},
     "output_type": "execute_result"
    }
   ],
   "source": [
    "Catalog(spark).listTables()\n",
    "\n",
    "\n",
    "df_sp.createOrReplaceTempView(\"babynames\")\n",
    "\n",
    "\n",
    "Catalog(spark).listTables()"
   ]
  },
  {
   "cell_type": "markdown",
   "metadata": {
    "format": "text/markdown"
   },
   "source": [
    "\n",
    "## A query is a plain SQL query embodied in a string.\n",
    "\n"
   ]
  },
  {
   "cell_type": "code",
   "execution_count": 40,
   "metadata": {
    "ExecuteTime": {
     "end_time": "2020-03-05T16:28:56.836520Z",
     "start_time": "2020-03-05T16:28:56.833764Z"
    },
    "autoscroll": "auto",
    "options": {
     "caption": false,
     "complete": true,
     "display_data": true,
     "display_stream": true,
     "dpi": 200,
     "echo": true,
     "evaluate": false,
     "f_env": null,
     "f_pos": "htpb",
     "f_size": [
      6,
      4
     ],
     "f_spines": true,
     "fig": true,
     "include": true,
     "name": null,
     "option_string": "evaluate=False",
     "results": "verbatim",
     "term": false,
     "wrap": "output"
    }
   },
   "outputs": [
    {
     "name": "stdout",
     "output_type": "stream",
     "text": [
      "+-----------+---+-----+\n",
      "|       name|sex|    n|\n",
      "+-----------+---+-----+\n",
      "|      Jacob|  M|34471|\n",
      "|    Michael|  M|32035|\n",
      "|    Matthew|  M|28572|\n",
      "|     Joshua|  M|27538|\n",
      "|      Emily|  F|25953|\n",
      "|Christopher|  M|24931|\n",
      "|   Nicholas|  M|24652|\n",
      "|     Andrew|  M|23639|\n",
      "|     Hannah|  F|23080|\n",
      "|     Joseph|  M|22825|\n",
      "+-----------+---+-----+\n",
      "\n"
     ]
    }
   ],
   "source": [
    "query = \"\"\"\n",
    "SELECT name, sex, n\n",
    "FROM babynames \n",
    "WHERE year == '2000'\n",
    "ORDER BY n DESC\n",
    "LIMIT 10\"\"\"\n",
    "\n",
    "spark.sql(query).show()"
   ]
  },
  {
   "cell_type": "markdown",
   "metadata": {
    "format": "text/markdown"
   },
   "source": [
    "> This phrasing is not consistent with the DRY principle. Fix this using formatted strings."
   ]
  },
  {
   "cell_type": "markdown",
   "metadata": {
    "format": "text/markdown"
   },
   "source": [
    "## Using the dataframe/dataset API\n",
    "\n",
    "This can also be done using Spark SQL API.\n",
    "\n",
    "### Pedestrian approach\n",
    "\n",
    "1. First select `10` most popular names for girls in year `2000`, define `spark` dataframe\n",
    "`top10_2000_f`.\n",
    "1. Does the definition of `top10_2000_f` involve _transformations_, _actions_ or both?\n",
    "1. What is the type of the result returned by `top10_2000_f.take(2)`? the type of elements of the result?"
   ]
  },
  {
   "cell_type": "code",
   "execution_count": 221,
   "metadata": {
    "ExecuteTime": {
     "end_time": "2020-03-05T16:18:50.904065Z",
     "start_time": "2020-03-05T16:18:50.847638Z"
    },
    "autoscroll": "auto",
    "options": {
     "caption": false,
     "complete": true,
     "display_data": true,
     "display_stream": true,
     "dpi": 200,
     "echo": true,
     "evaluate": false,
     "f_env": null,
     "f_pos": "htpb",
     "f_size": [
      6,
      4
     ],
     "f_spines": true,
     "fig": true,
     "include": true,
     "name": null,
     "option_string": "evaluate=False",
     "results": "verbatim",
     "term": false,
     "wrap": "output"
    }
   },
   "outputs": [
    {
     "name": "stdout",
     "output_type": "stream",
     "text": [
      "+---------+-----+---+----+\n",
      "|     name|    n|sex|year|\n",
      "+---------+-----+---+----+\n",
      "|    Emily|25953|  F|2000|\n",
      "|   Hannah|23080|  F|2000|\n",
      "|  Madison|19967|  F|2000|\n",
      "|   Ashley|17997|  F|2000|\n",
      "|    Sarah|17697|  F|2000|\n",
      "|   Alexis|17629|  F|2000|\n",
      "| Samantha|17266|  F|2000|\n",
      "|  Jessica|15709|  F|2000|\n",
      "|Elizabeth|15094|  F|2000|\n",
      "|   Taylor|15078|  F|2000|\n",
      "+---------+-----+---+----+\n",
      "only showing top 10 rows\n",
      "\n"
     ]
    }
   ],
   "source": [
    "top_2000_F = df_sp.where('sex == \"F\"')\\\n",
    "                    .where('year == 2000')\\\n",
    "                    .orderBy(df_sp.n.desc())\n",
    "top_2000_F.show(10)"
   ]
  },
  {
   "cell_type": "markdown",
   "metadata": {
    "format": "text/markdown"
   },
   "source": [
    "\n",
    "1. Do the same thing for boys.\n",
    "\n"
   ]
  },
  {
   "cell_type": "code",
   "execution_count": 223,
   "metadata": {
    "ExecuteTime": {
     "end_time": "2020-03-05T16:18:54.222789Z",
     "start_time": "2020-03-05T16:18:54.211586Z"
    },
    "autoscroll": "auto",
    "options": {
     "caption": false,
     "complete": true,
     "display_data": true,
     "display_stream": true,
     "dpi": 200,
     "echo": true,
     "evaluate": false,
     "f_env": null,
     "f_pos": "htpb",
     "f_size": [
      6,
      4
     ],
     "f_spines": true,
     "fig": true,
     "include": true,
     "name": null,
     "option_string": "evaluate=False",
     "results": "verbatim",
     "term": false,
     "wrap": "output"
    }
   },
   "outputs": [
    {
     "name": "stdout",
     "output_type": "stream",
     "text": [
      "+-----------+-----+---+----+\n",
      "|       name|    n|sex|year|\n",
      "+-----------+-----+---+----+\n",
      "|      Jacob|34471|  M|2000|\n",
      "|    Michael|32035|  M|2000|\n",
      "|    Matthew|28572|  M|2000|\n",
      "|     Joshua|27538|  M|2000|\n",
      "|Christopher|24931|  M|2000|\n",
      "|   Nicholas|24652|  M|2000|\n",
      "|     Andrew|23639|  M|2000|\n",
      "|     Joseph|22825|  M|2000|\n",
      "|     Daniel|22312|  M|2000|\n",
      "|      Tyler|21503|  M|2000|\n",
      "+-----------+-----+---+----+\n",
      "only showing top 10 rows\n",
      "\n"
     ]
    }
   ],
   "source": [
    "top_2000_M = df_sp.where('sex == \"M\"')\\\n",
    "                    .where('year == 2000')\\\n",
    "                    .orderBy(df_sp.n.desc())\n",
    "top_2000_M.show(10)"
   ]
  },
  {
   "cell_type": "markdown",
   "metadata": {
    "format": "text/markdown"
   },
   "source": [
    "\n",
    "1. Compute the _union_ of the two spark dataframes. Store the result in\n",
    "dataframe `top10_2000`\n",
    "\n"
   ]
  },
  {
   "cell_type": "code",
   "execution_count": 224,
   "metadata": {
    "ExecuteTime": {
     "end_time": "2020-03-05T16:19:06.586274Z",
     "start_time": "2020-03-05T16:19:04.461151Z"
    },
    "autoscroll": "auto",
    "options": {
     "caption": false,
     "complete": true,
     "display_data": true,
     "display_stream": true,
     "dpi": 200,
     "echo": true,
     "evaluate": false,
     "f_env": null,
     "f_pos": "htpb",
     "f_size": [
      6,
      4
     ],
     "f_spines": true,
     "fig": true,
     "include": true,
     "name": null,
     "option_string": "evaluate=False",
     "results": "verbatim",
     "term": false,
     "wrap": "output"
    }
   },
   "outputs": [],
   "source": [
    "top_2000 = top_2000_F.union(top_2000_M)"
   ]
  },
  {
   "cell_type": "markdown",
   "metadata": {
    "format": "text/markdown"
   },
   "source": [
    "\n",
    "### Do it again, complying  with DRY principle\n",
    "\n"
   ]
  },
  {
   "cell_type": "code",
   "execution_count": 225,
   "metadata": {
    "ExecuteTime": {
     "end_time": "2020-03-05T16:19:11.819499Z",
     "start_time": "2020-03-05T16:19:10.333824Z"
    },
    "autoscroll": "auto",
    "options": {
     "caption": false,
     "complete": true,
     "display_data": true,
     "display_stream": true,
     "dpi": 200,
     "echo": true,
     "evaluate": false,
     "f_env": null,
     "f_pos": "htpb",
     "f_size": [
      6,
      4
     ],
     "f_spines": true,
     "fig": true,
     "include": true,
     "name": null,
     "option_string": "evaluate=False",
     "results": "verbatim",
     "term": false,
     "wrap": "output"
    }
   },
   "outputs": [
    {
     "name": "stdout",
     "output_type": "stream",
     "text": [
      "+-----------+-----+---+----+\n",
      "|       name|    n|sex|year|\n",
      "+-----------+-----+---+----+\n",
      "|      Jacob|34471|  M|2000|\n",
      "|    Michael|32035|  M|2000|\n",
      "|    Matthew|28572|  M|2000|\n",
      "|     Joshua|27538|  M|2000|\n",
      "|      Emily|25953|  F|2000|\n",
      "|Christopher|24931|  M|2000|\n",
      "|   Nicholas|24652|  M|2000|\n",
      "|     Andrew|23639|  M|2000|\n",
      "|     Hannah|23080|  F|2000|\n",
      "|     Joseph|22825|  M|2000|\n",
      "+-----------+-----+---+----+\n",
      "only showing top 10 rows\n",
      "\n"
     ]
    }
   ],
   "source": [
    "top_2000_dry = df_sp.where('(sex == \"M\") or (sex == \"F\")').where('year == 2000').orderBy(df_sp.n.desc())\n",
    "top_2000_dry.show(10)"
   ]
  },
  {
   "cell_type": "markdown",
   "metadata": {
    "format": "text/markdown"
   },
   "source": [
    "\n",
    "\n",
    "Name portfolio through ages\n",
    "===========================\n",
    "\n",
    "1. Compute for each year and sex the number of distinct names given that year.\n",
    "\n"
   ]
  },
  {
   "cell_type": "markdown",
   "metadata": {},
   "source": [
    "#### SQL query"
   ]
  },
  {
   "cell_type": "code",
   "execution_count": 39,
   "metadata": {
    "ExecuteTime": {
     "end_time": "2020-03-05T16:19:16.887270Z",
     "start_time": "2020-03-05T16:19:16.870156Z"
    },
    "autoscroll": "auto",
    "options": {
     "caption": false,
     "complete": true,
     "display_data": true,
     "display_stream": true,
     "dpi": 200,
     "echo": true,
     "evaluate": false,
     "f_env": null,
     "f_pos": "htpb",
     "f_size": [
      6,
      4
     ],
     "f_spines": true,
     "fig": true,
     "include": true,
     "name": null,
     "option_string": "evaluate=False",
     "results": "verbatim",
     "term": false,
     "wrap": "output"
    }
   },
   "outputs": [
    {
     "name": "stdout",
     "output_type": "stream",
     "text": [
      "+----+---+----------+\n",
      "|year|sex|n_distinct|\n",
      "+----+---+----------+\n",
      "|1880|  F|       942|\n",
      "|1880|  M|      1058|\n",
      "|1881|  F|       938|\n",
      "|1881|  M|       997|\n",
      "|1882|  F|      1028|\n",
      "|1882|  M|      1099|\n",
      "|1883|  F|      1054|\n",
      "|1883|  M|      1030|\n",
      "|1884|  F|      1172|\n",
      "|1884|  M|      1125|\n",
      "+----+---+----------+\n",
      "only showing top 10 rows\n",
      "\n"
     ]
    }
   ],
   "source": [
    "nb_distinct_names = \"\"\"\n",
    "SELECT year, sex, COUNT(name) AS n_distinct\n",
    "FROM babynames\n",
    "GROUP BY year, sex\n",
    "ORDER BY year, sex\n",
    "\"\"\" \n",
    "spark.sql(nb_distinct_names).show(10)"
   ]
  },
  {
   "cell_type": "markdown",
   "metadata": {},
   "source": [
    "#### Spark API"
   ]
  },
  {
   "cell_type": "code",
   "execution_count": 42,
   "metadata": {},
   "outputs": [
    {
     "name": "stdout",
     "output_type": "stream",
     "text": [
      "+----+---+----------+\n",
      "|year|sex|n_distinct|\n",
      "+----+---+----------+\n",
      "|1880|  F|       942|\n",
      "|1880|  M|      1058|\n",
      "|1881|  F|       938|\n",
      "|1881|  M|       997|\n",
      "|1882|  F|      1028|\n",
      "|1882|  M|      1099|\n",
      "|1883|  F|      1054|\n",
      "|1883|  M|      1030|\n",
      "|1884|  F|      1172|\n",
      "|1884|  M|      1125|\n",
      "+----+---+----------+\n",
      "only showing top 10 rows\n",
      "\n"
     ]
    }
   ],
   "source": [
    "df_sp.groupBy(col(\"year\"), col(\"sex\"))\\\n",
    "     .agg(fn.count(col(\"name\")).alias(\"n_distinct\"))\\\n",
    "     .orderBy(col(\"year\"), col(\"sex\")).show(10)"
   ]
  },
  {
   "cell_type": "markdown",
   "metadata": {
    "format": "text/markdown"
   },
   "source": [
    "\n",
    "2. Plot the evolution of the number of distinct names as a function of `year`.\n",
    "Use some aesthetics to distinguish sexes.\n",
    "\n",
    "\n"
   ]
  },
  {
   "cell_type": "code",
   "execution_count": 126,
   "metadata": {
    "autoscroll": "auto",
    "options": {
     "caption": false,
     "complete": true,
     "display_data": true,
     "display_stream": true,
     "dpi": 200,
     "echo": true,
     "evaluate": false,
     "f_env": null,
     "f_pos": "htpb",
     "f_size": [
      6,
      4
     ],
     "f_spines": true,
     "fig": true,
     "include": true,
     "name": null,
     "option_string": "evaluate=False",
     "results": "verbatim",
     "term": false,
     "wrap": "output"
    }
   },
   "outputs": [
    {
     "name": "stdout",
     "output_type": "stream",
     "text": [
      "+----+---+-----+\n",
      "|year|sex|count|\n",
      "+----+---+-----+\n",
      "|1880|  F|  942|\n",
      "|1880|  M| 1058|\n",
      "|1881|  F|  938|\n",
      "|1881|  M|  997|\n",
      "|1882|  F| 1028|\n",
      "|1882|  M| 1099|\n",
      "|1883|  F| 1054|\n",
      "|1883|  M| 1030|\n",
      "|1884|  F| 1172|\n",
      "|1884|  M| 1125|\n",
      "+----+---+-----+\n",
      "only showing top 10 rows\n",
      "\n"
     ]
    }
   ],
   "source": [
    "nb_distinct_names = df_sp.groupBy([df_sp.year, df_sp.sex])\\\n",
    "                         .count()\n",
    "nb_distinct_names.orderBy(col(\"year\"), col(\"sex\")).show(10)"
   ]
  },
  {
   "cell_type": "code",
   "execution_count": 127,
   "metadata": {},
   "outputs": [],
   "source": [
    "nb_distinct_names_pd = nb_distinct_names.toPandas() # on transforme en Pandas Dataframe pour faire le graphique"
   ]
  },
  {
   "cell_type": "code",
   "execution_count": 228,
   "metadata": {},
   "outputs": [
    {
     "data": {
      "image/png": "[encoded data removed]",
      "text/plain": [
       "<Figure size 432x288 with 1 Axes>"
      ]
     },
     "metadata": {},
     "output_type": "display_data"
    }
   ],
   "source": [
    "sns.set()\n",
    "_ = sns.lineplot(x = \"year\",\n",
    "                 y = \"count\",\n",
    "                 hue = \"sex\",\n",
    "                 style = \"sex\",\n",
    "                 data = nb_distinct_names_pd)\n",
    "\n",
    "plt.title(\"Evolution du nombre de noms distincts selon le temps\")\n",
    "plt.ylabel(\"Nombre de noms distincts\")\n",
    "plt.xlabel(\"Année\")\n",
    "plt.show(_)"
   ]
  },
  {
   "cell_type": "markdown",
   "metadata": {
    "format": "text/markdown"
   },
   "source": [
    "Assessing popularity through time\n",
    "=================================\n",
    "\n",
    "1. For each year and sex, compute the total number of births"
   ]
  },
  {
   "cell_type": "markdown",
   "metadata": {},
   "source": [
    "#### SQL query"
   ]
  },
  {
   "cell_type": "code",
   "execution_count": 99,
   "metadata": {
    "scrolled": true
   },
   "outputs": [
    {
     "name": "stdout",
     "output_type": "stream",
     "text": [
      "+----+---+------------+\n",
      "|year|sex|nb_of_births|\n",
      "+----+---+------------+\n",
      "|1880|  F|       90993|\n",
      "|1880|  M|      110491|\n",
      "|1881|  F|       91953|\n",
      "|1881|  M|      100743|\n",
      "|1882|  F|      107847|\n",
      "|1882|  M|      113686|\n",
      "|1883|  F|      112319|\n",
      "|1883|  M|      104627|\n",
      "|1884|  F|      129020|\n",
      "|1884|  M|      114442|\n",
      "+----+---+------------+\n",
      "only showing top 10 rows\n",
      "\n"
     ]
    }
   ],
   "source": [
    "total_births = \"\"\"\n",
    "SELECT year, sex, SUM(n) AS nb_of_births\n",
    "FROM babynames\n",
    "GROUP BY year, sex\n",
    "ORDER BY year, sex\n",
    "\"\"\" \n",
    "spark.sql(total_births).show(10)"
   ]
  },
  {
   "cell_type": "markdown",
   "metadata": {},
   "source": [
    "#### Spark API"
   ]
  },
  {
   "cell_type": "code",
   "execution_count": 131,
   "metadata": {},
   "outputs": [
    {
     "name": "stdout",
     "output_type": "stream",
     "text": [
      "+----+---+------------+\n",
      "|year|sex|nb_of_births|\n",
      "+----+---+------------+\n",
      "|1880|  F|       90993|\n",
      "|1880|  M|      110491|\n",
      "|1881|  F|       91953|\n",
      "|1881|  M|      100743|\n",
      "|1882|  F|      107847|\n",
      "|1882|  M|      113686|\n",
      "|1883|  F|      112319|\n",
      "|1883|  M|      104627|\n",
      "|1884|  F|      129020|\n",
      "|1884|  M|      114442|\n",
      "+----+---+------------+\n",
      "only showing top 10 rows\n",
      "\n"
     ]
    }
   ],
   "source": [
    "total_births = df_sp.groupBy(col(\"year\"), col(\"sex\"))\\\n",
    "                    .agg(fn.sum(col(\"n\")).alias(\"nb_of_births\"))\\\n",
    "                    .orderBy(col(\"year\"), col(\"sex\"))\n",
    "total_births.show(10)"
   ]
  },
  {
   "cell_type": "markdown",
   "metadata": {
    "format": "text/markdown"
   },
   "source": [
    "2. Plot the evolution of the sex ratio over time"
   ]
  },
  {
   "cell_type": "code",
   "execution_count": 230,
   "metadata": {
    "scrolled": true
   },
   "outputs": [
    {
     "data": {
      "image/png": "[encoded data removed]",
      "text/plain": [
       "<Figure size 432x288 with 1 Axes>"
      ]
     },
     "metadata": {},
     "output_type": "display_data"
    }
   ],
   "source": [
    "plt.title(\"Evolution du sex ratio en fonction du temps\")\n",
    "ax = sns.lineplot(x=\"year\", y=\"nb_of_births\", hue=\"sex\", data=total_births.toPandas())"
   ]
  },
  {
   "cell_type": "markdown",
   "metadata": {
    "format": "text/markdown"
   },
   "source": [
    "3. For each year, sex, and name compute the percentage of newborns\n",
    "given that name for that given year.\n",
    "\n",
    "\n",
    "> Use `Window` functions."
   ]
  },
  {
   "cell_type": "code",
   "execution_count": 177,
   "metadata": {
    "ExecuteTime": {
     "end_time": "2020-03-05T16:19:30.167868Z",
     "start_time": "2020-03-05T16:19:30.089134Z"
    },
    "autoscroll": "auto",
    "options": {
     "caption": false,
     "complete": true,
     "display_data": true,
     "display_stream": true,
     "dpi": 200,
     "echo": true,
     "evaluate": false,
     "f_env": null,
     "f_pos": "htpb",
     "f_size": [
      6,
      4
     ],
     "f_spines": true,
     "fig": true,
     "include": true,
     "name": null,
     "option_string": "evaluate=False",
     "results": "verbatim",
     "term": false,
     "wrap": "output"
    }
   },
   "outputs": [
    {
     "name": "stdout",
     "output_type": "stream",
     "text": [
      "+---------+---+----+--------------+------------------+\n",
      "|     name|sex|year|total_newborns|  percent_newborns|\n",
      "+---------+---+----+--------------+------------------+\n",
      "|    Sarah|  F|1880|        201484|0.6392567151734133|\n",
      "| Margaret|  F|1880|        201484|0.7831887395525203|\n",
      "|   Bertha|  F|1880|        201484|0.6551388695876595|\n",
      "|     Emma|  F|1880|        201484|0.9941236028667289|\n",
      "|   Minnie|  F|1880|        201484|0.8665700502273134|\n",
      "|      Ida|  F|1880|        201484|0.7305791030553295|\n",
      "|    Alice|  F|1880|        201484|0.7017926981795081|\n",
      "|     Mary|  F|1880|        201484| 3.506481904270314|\n",
      "|     Anna|  F|1880|        201484| 1.292410315459292|\n",
      "|Elizabeth|  F|1880|        201484|0.9623592940382363|\n",
      "+---------+---+----+--------------+------------------+\n",
      "only showing top 10 rows\n",
      "\n"
     ]
    }
   ],
   "source": [
    "newborns = df_sp.withColumn('total_newborns', fn.sum('n').over(Window.partitionBy('year')))\n",
    "per_newborns= newborns\\\n",
    "    .withColumn('percent_newborns', 100*col('n')/col('total_newborns'))\\\n",
    "    .orderBy(newborns.year.asc())\\\n",
    "    .drop(df_sp.n)\\\n",
    "    .show(10)"
   ]
  },
  {
   "cell_type": "markdown",
   "metadata": {
    "format": "text/markdown"
   },
   "source": [
    "\n",
    "\n"
   ]
  },
  {
   "cell_type": "markdown",
   "metadata": {
    "format": "text/markdown"
   },
   "source": [
    "\n",
    "1. Compute for each year, sex and name  the `row_number`, `rank`, and `dense_rank`\n",
    "of the name within that year and sex category, when names are sorted by increasing popularity.\n",
    "\n"
   ]
  },
  {
   "cell_type": "code",
   "execution_count": 178,
   "metadata": {
    "ExecuteTime": {
     "end_time": "2020-03-05T16:19:36.115385Z",
     "start_time": "2020-03-05T16:19:36.074444Z"
    },
    "autoscroll": "auto",
    "options": {
     "caption": false,
     "complete": true,
     "display_data": true,
     "display_stream": true,
     "dpi": 200,
     "echo": true,
     "evaluate": false,
     "f_env": null,
     "f_pos": "htpb",
     "f_size": [
      6,
      4
     ],
     "f_spines": true,
     "fig": true,
     "include": true,
     "name": null,
     "option_string": "evaluate=False",
     "results": "verbatim",
     "term": false,
     "wrap": "output"
    }
   },
   "outputs": [],
   "source": [
    "pop_names = Window.partitionBy('name')\\\n",
    "    .orderBy(df_sp.n.desc())\n",
    "row_number = fn.row_number().over(pop_names)\n",
    "rank = fn.rank().over(pop_names)\n",
    "dense_rank = fn.dense_rank().over(pop_names)"
   ]
  },
  {
   "cell_type": "code",
   "execution_count": 179,
   "metadata": {
    "ExecuteTime": {
     "end_time": "2020-03-05T16:19:36.115385Z",
     "start_time": "2020-03-05T16:19:36.074444Z"
    },
    "autoscroll": "auto",
    "options": {
     "caption": false,
     "complete": true,
     "display_data": true,
     "display_stream": true,
     "dpi": 200,
     "echo": true,
     "evaluate": false,
     "f_env": null,
     "f_pos": "htpb",
     "f_size": [
      6,
      4
     ],
     "f_spines": true,
     "fig": true,
     "include": true,
     "name": null,
     "option_string": "evaluate=False",
     "results": "verbatim",
     "term": false,
     "wrap": "output"
    }
   },
   "outputs": [
    {
     "name": "stdout",
     "output_type": "stream",
     "text": [
      "+---------+----+---+----+----------+----+----------+\n",
      "|     name|   n|sex|year|row_number|rank|dense_rank|\n",
      "+---------+----+---+----+----------+----+----------+\n",
      "|     John|9655|  M|1880|       109| 109|       109|\n",
      "|  William|9532|  M|1880|       108| 108|       108|\n",
      "|     Mary|7065|  F|1880|       115| 115|       114|\n",
      "|    James|5927|  M|1880|       114| 114|       114|\n",
      "|  Charles|5348|  M|1880|       108| 108|       106|\n",
      "|   George|5126|  M|1880|        75|  75|        74|\n",
      "|    Frank|3242|  M|1880|        81|  81|        80|\n",
      "|   Joseph|2632|  M|1880|       132| 132|       131|\n",
      "|     Anna|2604|  F|1880|       138| 138|       135|\n",
      "|   Thomas|2534|  M|1880|       112| 112|       112|\n",
      "|    Henry|2444|  M|1880|        92|  92|        91|\n",
      "|   Robert|2415|  M|1880|       133| 133|       133|\n",
      "|   Edward|2364|  M|1880|       118| 118|       118|\n",
      "|    Harry|2152|  M|1880|        66|  66|        66|\n",
      "|     Emma|2003|  F|1880|        97|  97|        94|\n",
      "|Elizabeth|1939|  F|1880|       137| 137|       137|\n",
      "|   Walter|1755|  M|1880|        98|  98|        96|\n",
      "|   Minnie|1746|  F|1880|        52|  52|        52|\n",
      "|   Arthur|1599|  M|1880|        93|  93|        93|\n",
      "| Margaret|1578|  F|1880|       138| 138|       137|\n",
      "+---------+----+---+----+----------+----+----------+\n",
      "only showing top 20 rows\n",
      "\n"
     ]
    }
   ],
   "source": [
    "df_sp\\\n",
    "    .withColumn('row_number', row_number)\\\n",
    "    .withColumn('rank', rank)\\\n",
    "    .withColumn('dense_rank', dense_rank)\\\n",
    "    .orderBy('year', fn.col('n').desc())\\\n",
    "    .show()"
   ]
  },
  {
   "cell_type": "markdown",
   "metadata": {
    "format": "text/markdown"
   },
   "source": [
    "\n",
    "\n",
    "\n",
    "Evolution of top popular names through the century\n",
    "==================================================\n",
    "\n",
    "\n",
    "Plot  the popularity of each of the top ten achievers from year 2000 with respect to time\n",
    "==================================================================================\n",
    "\n",
    "\n",
    "1. For each sex, select the ten most popular names in year 2000, and plot the proportion\n",
    "of newborns given that name over time. Take into account that some names might have\n",
    "zero occurrence during certain years.\n",
    "\n"
   ]
  },
  {
   "cell_type": "markdown",
   "metadata": {},
   "source": [
    "#### Féminin"
   ]
  },
  {
   "cell_type": "code",
   "execution_count": 180,
   "metadata": {
    "ExecuteTime": {
     "end_time": "2020-03-05T16:19:40.354184Z",
     "start_time": "2020-03-05T16:19:40.147172Z"
    },
    "autoscroll": "auto",
    "options": {
     "caption": false,
     "complete": true,
     "display_data": true,
     "display_stream": true,
     "dpi": 200,
     "echo": true,
     "evaluate": false,
     "f_env": null,
     "f_pos": "htpb",
     "f_size": [
      6,
      4
     ],
     "f_spines": true,
     "fig": true,
     "include": true,
     "name": null,
     "option_string": "evaluate=False",
     "results": "verbatim",
     "term": false,
     "wrap": "output"
    }
   },
   "outputs": [
    {
     "name": "stdout",
     "output_type": "stream",
     "text": [
      "+---------+---+-----+----+--------------+--------------------+\n",
      "|     name|sex|    n|year|total_newborns|             percent|\n",
      "+---------+---+-----+----+--------------+--------------------+\n",
      "|Elizabeth|  F|18432|1959|       4156434| 0.44345705958521175|\n",
      "|    Sarah|  F| 3874|1959|       4156434| 0.09320489631256024|\n",
      "|    Emily|  F| 1213|1959|       4156434|0.029183670425176965|\n",
      "|  Jessica|  F|  522|1959|       4156434|0.012558842507784317|\n",
      "|   Alexis|  F|  168|1959|       4156434|0.004041926324344378|\n",
      "|   Hannah|  F|  136|1959|       4156434|0.003272035595897...|\n",
      "| Samantha|  F|  111|1959|       4156434|0.002670558464298964|\n",
      "|   Ashley|  F|   37|1959|       4156434|8.901861547663213E-4|\n",
      "|Elizabeth|  F| 3471|1896|        357485|  0.9709498300627999|\n",
      "|    Sarah|  F| 1691|1896|        357485| 0.47302684028700503|\n",
      "+---------+---+-----+----+--------------+--------------------+\n",
      "only showing top 10 rows\n",
      "\n"
     ]
    }
   ],
   "source": [
    "# les 10 noms féminins les plus populaires de l'année 2000\n",
    "pop_names_2000_F = df_sp.where('sex == \"F\"')\\\n",
    "                .where('year == 2000')\\\n",
    "                .drop(df_sp.year)\\\n",
    "                .orderBy(df_sp.n.desc()).limit(10).drop(df_sp.n)\\\n",
    "                .join(newborns,['name', 'sex'])\\\n",
    "                .withColumn('percent', 100*col('n')/col('total_newborns'))\n",
    "pop_names_2000_F.show(10)"
   ]
  },
  {
   "cell_type": "code",
   "execution_count": 232,
   "metadata": {
    "ExecuteTime": {
     "end_time": "2020-03-05T16:19:40.354184Z",
     "start_time": "2020-03-05T16:19:40.147172Z"
    },
    "autoscroll": "auto",
    "options": {
     "caption": false,
     "complete": true,
     "display_data": true,
     "display_stream": true,
     "dpi": 200,
     "echo": true,
     "evaluate": false,
     "f_env": null,
     "f_pos": "htpb",
     "f_size": [
      6,
      4
     ],
     "f_spines": true,
     "fig": true,
     "include": true,
     "name": null,
     "option_string": "evaluate=False",
     "results": "verbatim",
     "term": false,
     "wrap": "output"
    }
   },
   "outputs": [
    {
     "data": {
      "image/png": "[encoded data removed]",
      "text/plain": [
       "<Figure size 1080x432 with 10 Axes>"
      ]
     },
     "metadata": {},
     "output_type": "display_data"
    }
   ],
   "source": [
    "g = sns.FacetGrid(pop_names_2000_F.toPandas(), col=\"name\", col_wrap=5)\n",
    "g = (g.map(plt.scatter, \"year\", \"percent\", edgecolor=\"w\"))\n",
    "g.fig.subplots_adjust(top=1)\n",
    "g = g.fig.suptitle('Proportion de nouveaux-nés selon le temps pour les 10 noms féminins les plus populaires en 2000', fontsize=18)"
   ]
  },
  {
   "cell_type": "markdown",
   "metadata": {},
   "source": [
    "Certaines courbes sont discontinues car certains noms ont 0 occurence certaines années. "
   ]
  },
  {
   "cell_type": "markdown",
   "metadata": {},
   "source": [
    "#### Masculin "
   ]
  },
  {
   "cell_type": "code",
   "execution_count": 168,
   "metadata": {},
   "outputs": [
    {
     "name": "stdout",
     "output_type": "stream",
     "text": [
      "+-----------+---+-----+----+--------------+--------------------+\n",
      "|       name|sex|    n|year|total_newborns|             percent|\n",
      "+-----------+---+-----+----+--------------+--------------------+\n",
      "|    Michael|  M|85255|1959|       4156434|   2.051157314178452|\n",
      "|     Joseph|  M|29523|1959|       4156434|  0.7102963742477325|\n",
      "|     Daniel|  M|25134|1959|       4156434|  0.6047010490242357|\n",
      "|Christopher|  M|12903|1959|       4156434|  0.3104343771608066|\n",
      "|     Andrew|  M| 7092|1959|       4156434| 0.17062703269196625|\n",
      "|    Matthew|  M| 6558|1959|       4156434| 0.15777948116101448|\n",
      "|   Nicholas|  M| 2195|1959|       4156434|0.052809692154380417|\n",
      "|      Jacob|  M|  557|1959|       4156434|0.013400910492022728|\n",
      "|     Joshua|  M|  327|1959|       4156434|0.007867320881313164|\n",
      "|      Tyler|  M|  146|1959|       4156434|0.003512626448537376|\n",
      "+-----------+---+-----+----+--------------+--------------------+\n",
      "only showing top 10 rows\n",
      "\n"
     ]
    }
   ],
   "source": [
    "# les 10 noms masculins les plus populaires de l'année 2000\n",
    "pop_names_2000_M = df_sp.where('sex == \"M\"')\\\n",
    "                .where('year == 2000')\\\n",
    "                .drop(df_sp.year)\\\n",
    "                .orderBy(df_sp.n.desc()).limit(10).drop(df_sp.n)\\\n",
    "                .join(newborns,['name', 'sex'])\\\n",
    "                .withColumn('percent', 100*col('n')/col('total_newborns'))\n",
    "pop_names_2000_M.show(10)"
   ]
  },
  {
   "cell_type": "code",
   "execution_count": 169,
   "metadata": {},
   "outputs": [
    {
     "data": {
      "image/png": "[encoded data removed]",
      "text/plain": [
       "<Figure size 1080x432 with 10 Axes>"
      ]
     },
     "metadata": {},
     "output_type": "display_data"
    }
   ],
   "source": [
    "g = sns.FacetGrid(pop_names_2000_M.toPandas(), col=\"name\", col_wrap=5)\n",
    "g = (g.map(plt.scatter, \"year\", \"percent\", edgecolor=\"w\"))\n",
    "g.fig.subplots_adjust(top=1)\n",
    "g = g.fig.suptitle('Proportion de nouveaux-nés selon le temps pour les 10 noms masculins les plus populaires en 2000', fontsize=18)"
   ]
  },
  {
   "cell_type": "markdown",
   "metadata": {
    "format": "text/markdown"
   },
   "source": [
    "2. Use `explain()` to determine the joining strategy used by spark."
   ]
  },
  {
   "cell_type": "code",
   "execution_count": 236,
   "metadata": {
    "autoscroll": "auto",
    "options": {
     "caption": false,
     "complete": true,
     "display_data": true,
     "display_stream": true,
     "dpi": 200,
     "echo": true,
     "evaluate": false,
     "f_env": null,
     "f_pos": "htpb",
     "f_size": [
      6,
      4
     ],
     "f_spines": true,
     "fig": true,
     "include": true,
     "name": null,
     "option_string": "evaluate=False",
     "results": "verbatim",
     "term": false,
     "wrap": "output"
    }
   },
   "outputs": [
    {
     "ename": "SyntaxError",
     "evalue": "invalid syntax (<ipython-input-236-d41e1399dd4f>, line 2)",
     "output_type": "error",
     "traceback": [
      "\u001b[0;36m  File \u001b[0;32m\"<ipython-input-236-d41e1399dd4f>\"\u001b[0;36m, line \u001b[0;32m2\u001b[0m\n\u001b[0;31m    val explain = ExplainCommand(pop_names_2000_M)\u001b[0m\n\u001b[0m              ^\u001b[0m\n\u001b[0;31mSyntaxError\u001b[0m\u001b[0;31m:\u001b[0m invalid syntax\n"
     ]
    }
   ],
   "source": [
    "import org.apache.spark.sql.execution.command.ExplainCommand\n",
    "val explain = ExplainCommand(pop_names_2000_M)\n",
    "spark.sessionState.executePlan(explain)"
   ]
  },
  {
   "cell_type": "markdown",
   "metadata": {
    "format": "text/markdown"
   },
   "source": [
    "\n",
    "\n",
    "Plot the total popularity of the top ten achievers from year 2000 with respect to time\n",
    "==================================================================================\n",
    "\n",
    "\n"
   ]
  },
  {
   "cell_type": "code",
   "execution_count": 183,
   "metadata": {
    "autoscroll": "auto",
    "options": {
     "caption": false,
     "complete": true,
     "display_data": true,
     "display_stream": true,
     "dpi": 200,
     "echo": true,
     "evaluate": false,
     "f_env": null,
     "f_pos": "htpb",
     "f_size": [
      6,
      4
     ],
     "f_spines": true,
     "fig": true,
     "include": true,
     "name": null,
     "option_string": "evaluate=False",
     "results": "verbatim",
     "term": false,
     "wrap": "output"
    }
   },
   "outputs": [
    {
     "name": "stdout",
     "output_type": "stream",
     "text": [
      "+----+--------------+-----------+------------------+\n",
      "|year|total_newborns|total_top10|           percent|\n",
      "+----+--------------+-----------+------------------+\n",
      "|1880|        201484|       4803|2.3838121141132795|\n",
      "|1881|        192696|       4407| 2.287022045086561|\n",
      "|1882|        221533|       4854| 2.191095683261636|\n",
      "|1883|        216946|       4653|2.1447733537377967|\n",
      "|1884|        243462|       5011|2.0582267458576697|\n",
      "|1885|        240854|       4725|1.9617693706560821|\n",
      "|1886|        255317|       4843|1.8968576318850683|\n",
      "|1887|        247394|       4536|1.8335125346613095|\n",
      "|1888|        299473|       5519|1.8429040347543852|\n",
      "|1889|        288946|       4982| 1.724197600935815|\n",
      "+----+--------------+-----------+------------------+\n",
      "only showing top 10 rows\n",
      "\n"
     ]
    }
   ],
   "source": [
    "# Proportion des 10 noms (masculins et féminims) les plus populaires de 2000 selon le temps\n",
    "pop_names_2000_MF = df_sp.where('sex == \"M\" or sex == \"F\"')\\\n",
    "                .where('year == 2000').drop(df_sp.year)\\\n",
    "                .orderBy(df_sp.n.desc()).limit(10).drop(df_sp.n)\\\n",
    "                .join(newborns,['name', 'sex'])\\\n",
    "                .withColumn('total_top10', fn.sum('n').over(Window.partitionBy('year')))\\\n",
    "                .select(\"year\", \"total_newborns\", \"total_top10\").distinct()\\\n",
    "                .withColumn('percent', 100*col('total_top10')/col('total_newborns')).orderBy(\"year\")\n",
    "pop_names_2000_MF.show(10)"
   ]
  },
  {
   "cell_type": "code",
   "execution_count": 188,
   "metadata": {
    "autoscroll": "auto",
    "options": {
     "caption": false,
     "complete": true,
     "display_data": true,
     "display_stream": true,
     "dpi": 200,
     "echo": true,
     "evaluate": false,
     "f_env": null,
     "f_pos": "htpb",
     "f_size": [
      6,
      4
     ],
     "f_spines": true,
     "fig": true,
     "include": true,
     "name": null,
     "option_string": "evaluate=False",
     "results": "verbatim",
     "term": false,
     "wrap": "output"
    }
   },
   "outputs": [
    {
     "data": {
      "image/png": "[encoded data removed]",
      "text/plain": [
       "<Figure size 432x288 with 1 Axes>"
      ]
     },
     "metadata": {},
     "output_type": "display_data"
    }
   ],
   "source": [
    "ax = sns.lineplot(x=\"year\", y=\"percent\", label=\"Proportion des 10 noms les plus populaires de 2000 selon le temps\", data=pop_names_2000_MF.toPandas())\n"
   ]
  },
  {
   "cell_type": "markdown",
   "metadata": {
    "format": "text/markdown"
   },
   "source": [
    "\n",
    "\n",
    "Plot lorenz curves\n",
    "=====================\n",
    "\n",
    "Every year, the name counts define a discrete probability distribution.\n",
    "This distribution, just as income or wealth distribution,\n",
    "is (usually) far from being uniform. We want to assess how uneven it is.\n",
    "We use the tools developed in econometrics.\n",
    "\n",
    "Without loss of generality, that we handle a distribution over $1, \\ldots, n$\n",
    "where $n$ is the number of distinct names given during a year.\n",
    "We assume that frequencies $p_1, p_2, \\ldots, p_n$ are given in ascending order.\n",
    "\n",
    "The Lorenz function maps $[0, 1] \\to [0, 1]$.\n",
    "$$L(x) = \\sum_{i=1}^{\\lfloor nx \\rfloor} p_i$$.\n",
    "\n",
    "1. Design a query that adds a column \"lorenz\" to the dataframe , and for each\n",
    "row computes the value of the Lorenz function defined by `year`  and `sex`.\n",
    "\n",
    "\n"
   ]
  },
  {
   "cell_type": "code",
   "execution_count": 189,
   "metadata": {
    "ExecuteTime": {
     "end_time": "2020-03-05T16:19:50.475537Z",
     "start_time": "2020-03-05T16:19:50.463833Z"
    },
    "autoscroll": "auto",
    "options": {
     "caption": false,
     "complete": true,
     "display_data": true,
     "display_stream": true,
     "dpi": 200,
     "echo": true,
     "evaluate": false,
     "f_env": null,
     "f_pos": "htpb",
     "f_size": [
      6,
      4
     ],
     "f_spines": true,
     "fig": true,
     "include": true,
     "name": null,
     "option_string": "evaluate=False",
     "results": "verbatim",
     "term": false,
     "wrap": "output"
    }
   },
   "outputs": [
    {
     "name": "stdout",
     "output_type": "stream",
     "text": [
      "+----+---+-------+\n",
      "|year|sex|  total|\n",
      "+----+---+-------+\n",
      "|1882|  F| 107847|\n",
      "|1906|  M| 133158|\n",
      "|1927|  M|1126875|\n",
      "|1930|  M|1097274|\n",
      "|1972|  M|1622477|\n",
      "|2004|  F|1834856|\n",
      "|1933|  M| 991315|\n",
      "|1937|  M|1066452|\n",
      "|1908|  M| 154339|\n",
      "|1893|  M| 112318|\n",
      "+----+---+-------+\n",
      "only showing top 10 rows\n",
      "\n"
     ]
    }
   ],
   "source": [
    "total_born = df_sp.withColumn('total', fn.sum('n').over(Window.partitionBy('year', 'sex')))\\\n",
    "            .select(\"year\",\"sex\",\"total\").distinct()\n",
    "total_born.show(10)"
   ]
  },
  {
   "cell_type": "code",
   "execution_count": 192,
   "metadata": {
    "ExecuteTime": {
     "end_time": "2020-03-05T16:19:50.475537Z",
     "start_time": "2020-03-05T16:19:50.463833Z"
    },
    "autoscroll": "auto",
    "options": {
     "caption": false,
     "complete": true,
     "display_data": true,
     "display_stream": true,
     "dpi": 200,
     "echo": true,
     "evaluate": false,
     "f_env": null,
     "f_pos": "htpb",
     "f_size": [
      6,
      4
     ],
     "f_spines": true,
     "fig": true,
     "include": true,
     "name": null,
     "option_string": "evaluate=False",
     "results": "verbatim",
     "term": false,
     "wrap": "output"
    }
   },
   "outputs": [
    {
     "name": "stdout",
     "output_type": "stream",
     "text": [
      "+----+---+----------+\n",
      "|year|sex|n_distinct|\n",
      "+----+---+----------+\n",
      "|1972|  M|      5750|\n",
      "|2004|  F|     18826|\n",
      "|1927|  M|      4803|\n",
      "|1930|  M|      4541|\n",
      "|1882|  F|      1028|\n",
      "|1906|  M|      1413|\n",
      "|1933|  M|      4154|\n",
      "|1937|  M|      4019|\n",
      "|1908|  M|      1584|\n",
      "|1893|  M|      1179|\n",
      "+----+---+----------+\n",
      "only showing top 10 rows\n",
      "\n"
     ]
    }
   ],
   "source": [
    "distinct_born = df_sp.groupBy(col(\"year\"), col(\"sex\"))\\\n",
    "                .agg(fn.count(col(\"name\")).alias(\"n_distinct\"))\n",
    "distinct_born.show(10)"
   ]
  },
  {
   "cell_type": "code",
   "execution_count": 197,
   "metadata": {
    "ExecuteTime": {
     "end_time": "2020-03-05T16:19:50.475537Z",
     "start_time": "2020-03-05T16:19:50.463833Z"
    },
    "autoscroll": "auto",
    "options": {
     "caption": false,
     "complete": true,
     "display_data": true,
     "display_stream": true,
     "dpi": 200,
     "echo": true,
     "evaluate": false,
     "f_env": null,
     "f_pos": "htpb",
     "f_size": [
      6,
      4
     ],
     "f_spines": true,
     "fig": true,
     "include": true,
     "name": null,
     "option_string": "evaluate=False",
     "results": "verbatim",
     "term": false,
     "wrap": "output"
    }
   },
   "outputs": [
    {
     "name": "stdout",
     "output_type": "stream",
     "text": [
      "+----+---+---------+----+----------+------+--------------------+\n",
      "|year|sex|     name|   n|n_distinct| total|          proportion|\n",
      "+----+---+---------+----+----------+------+--------------------+\n",
      "|1882|  F|     Mary|8148|      1028|107847|  0.0755514757016885|\n",
      "|1882|  F|     Anna|3143|      1028|107847| 0.02914313796396747|\n",
      "|1882|  F|     Emma|2303|      1028|107847|0.021354326035958347|\n",
      "|1882|  F|Elizabeth|2186|      1028|107847|0.020269455803128507|\n",
      "|1882|  F|   Minnie|2004|      1028|107847|0.018581879885393195|\n",
      "|1882|  F| Margaret|1821|      1028|107847|0.016885031572505493|\n",
      "|1882|  F|      Ida|1673|      1028|107847|0.015512717089951505|\n",
      "|1882|  F|    Alice|1542|      1028|107847|0.014298033324988177|\n",
      "|1882|  F|   Bertha|1508|      1028|107847|0.013982771889806856|\n",
      "|1882|  F|    Annie|1492|      1028|107847|0.013834413567368586|\n",
      "+----+---+---------+----+----------+------+--------------------+\n",
      "only showing top 10 rows\n",
      "\n"
     ]
    }
   ],
   "source": [
    "df_prop = df_sp\\\n",
    "        .join(distinct_born, [\"year\", \"sex\"])\\\n",
    "        .join(total_born, [\"year\", \"sex\"])\\\n",
    "        .withColumn('proportion', col('n')/col('total'))\n",
    "df_prop.show(10)"
   ]
  },
  {
   "cell_type": "code",
   "execution_count": 201,
   "metadata": {
    "ExecuteTime": {
     "end_time": "2020-03-05T16:19:50.475537Z",
     "start_time": "2020-03-05T16:19:50.463833Z"
    },
    "autoscroll": "auto",
    "options": {
     "caption": false,
     "complete": true,
     "display_data": true,
     "display_stream": true,
     "dpi": 200,
     "echo": true,
     "evaluate": false,
     "f_env": null,
     "f_pos": "htpb",
     "f_size": [
      6,
      4
     ],
     "f_spines": true,
     "fig": true,
     "include": true,
     "name": null,
     "option_string": "evaluate=False",
     "results": "verbatim",
     "term": false,
     "wrap": "output"
    },
    "scrolled": true
   },
   "outputs": [
    {
     "name": "stdout",
     "output_type": "stream",
     "text": [
      "+----+---+--------+---+----------+------+--------------------+-------+--------------------+\n",
      "|year|sex|    name|  n|n_distinct| total|          proportion|cum_sum|              lorenz|\n",
      "+----+---+--------+---+----------+------+--------------------+-------+--------------------+\n",
      "|1882|  F|   Affie|  5|      1028|107847|4.636197576195907E-5|    605|0.005609799067197048|\n",
      "|1882|  F|  Albert|  5|      1028|107847|4.636197576195907E-5|    605|0.005609799067197048|\n",
      "|1882|  F|Albertha|  5|      1028|107847|4.636197576195907E-5|    605|0.005609799067197048|\n",
      "|1882|  F| Alexina|  5|      1028|107847|4.636197576195907E-5|    605|0.005609799067197048|\n",
      "|1882|  F|  Allene|  5|      1028|107847|4.636197576195907E-5|    605|0.005609799067197048|\n",
      "|1882|  F|   Altie|  5|      1028|107847|4.636197576195907E-5|    605|0.005609799067197048|\n",
      "|1882|  F|  Anabel|  5|      1028|107847|4.636197576195907E-5|    605|0.005609799067197048|\n",
      "|1882|  F|    Anie|  5|      1028|107847|4.636197576195907E-5|    605|0.005609799067197048|\n",
      "|1882|  F|   Annis|  5|      1028|107847|4.636197576195907E-5|    605|0.005609799067197048|\n",
      "|1882|  F| Artelia|  5|      1028|107847|4.636197576195907E-5|    605|0.005609799067197048|\n",
      "+----+---+--------+---+----------+------+--------------------+-------+--------------------+\n",
      "only showing top 10 rows\n",
      "\n"
     ]
    }
   ],
   "source": [
    "window = (Window.partitionBy('sex','year').orderBy(col(\"n\").asc())\n",
    "             .rangeBetween(Window.unboundedPreceding, 0))\n",
    "\n",
    "df_lorenz = df_prop\\\n",
    "            .withColumn('cum_sum', fn.sum('n').over(window))\\\n",
    "            .withColumn('lorenz', col('cum_sum').cast(\"double\")/col('total').cast('double'))\n",
    "df_lorenz.show(10)"
   ]
  },
  {
   "cell_type": "code",
   "execution_count": 202,
   "metadata": {},
   "outputs": [
    {
     "name": "stdout",
     "output_type": "stream",
     "text": [
      "+----+---+--------+---+----------+------+-------------------+-------+--------------------+\n",
      "|year|sex|    name|  n|n_distinct| total|         proportion|cum_sum|              lorenz|\n",
      "+----+---+--------+---+----------+------+-------------------+-------+--------------------+\n",
      "|1880|  M|      Ab|  5|      1058|110491|4.52525545067019E-5|    750|0.006787883176005286|\n",
      "|1880|  M|  Abbott|  5|      1058|110491|4.52525545067019E-5|    750|0.006787883176005286|\n",
      "|1880|  M| Agustus|  5|      1058|110491|4.52525545067019E-5|    750|0.006787883176005286|\n",
      "|1880|  M|Albertus|  5|      1058|110491|4.52525545067019E-5|    750|0.006787883176005286|\n",
      "|1880|  M|   Almer|  5|      1058|110491|4.52525545067019E-5|    750|0.006787883176005286|\n",
      "|1880|  M|Alphonso|  5|      1058|110491|4.52525545067019E-5|    750|0.006787883176005286|\n",
      "|1880|  M|   Alvia|  5|      1058|110491|4.52525545067019E-5|    750|0.006787883176005286|\n",
      "|1880|  M|   Artie|  5|      1058|110491|4.52525545067019E-5|    750|0.006787883176005286|\n",
      "|1880|  M|   Arvid|  5|      1058|110491|4.52525545067019E-5|    750|0.006787883176005286|\n",
      "|1880|  M|   Ashby|  5|      1058|110491|4.52525545067019E-5|    750|0.006787883176005286|\n",
      "+----+---+--------+---+----------+------+-------------------+-------+--------------------+\n",
      "only showing top 10 rows\n",
      "\n"
     ]
    }
   ],
   "source": [
    "df_lorenz.filter((df_lorenz['year']==1880) & (df_lorenz['sex']=='M')).show(10)"
   ]
  },
  {
   "cell_type": "markdown",
   "metadata": {
    "format": "text/markdown"
   },
   "source": [
    "\n",
    "\n",
    "1. Design a function that takes as input a `year` and plots the Lorenz curve\n",
    "for that year for both sexes.\n",
    "\n"
   ]
  },
  {
   "cell_type": "code",
   "execution_count": 212,
   "metadata": {
    "autoscroll": "auto",
    "options": {
     "caption": false,
     "complete": true,
     "display_data": true,
     "display_stream": true,
     "dpi": 200,
     "echo": true,
     "evaluate": false,
     "f_env": null,
     "f_pos": "htpb",
     "f_size": [
      6,
      4
     ],
     "f_spines": true,
     "fig": true,
     "include": true,
     "name": null,
     "option_string": "evaluate=False",
     "results": "verbatim",
     "term": false,
     "wrap": "output"
    }
   },
   "outputs": [],
   "source": [
    "def lorenz(year):\n",
    "    year_m = df_lorenz.filter((df_lorenz.year==year) & (df_lorenz.sex=='M')).toPandas()['lorenz']\n",
    "    year_f = df_lorenz.filter((df_lorenz.year==year) & (df_lorenz.sex=='F')).toPandas()['lorenz']\n",
    "    plt.plot(np.linspace(0.0, 1.0, year_m.size), year_m, 'g', label='M')\n",
    "    plt.plot(np.linspace(0.0, 1.0, year_f.size), year_f, 'r', label='F')\n",
    "    plt.plot([0,1], [0,1])\n",
    "    plt.legend()\n",
    "    plt.show()"
   ]
  },
  {
   "cell_type": "code",
   "execution_count": 213,
   "metadata": {},
   "outputs": [
    {
     "data": {
      "image/png": "[encoded data removed]",
      "text/plain": [
       "<Figure size 432x288 with 1 Axes>"
      ]
     },
     "metadata": {},
     "output_type": "display_data"
    }
   ],
   "source": [
    "lorenz(1950)"
   ]
  },
  {
   "cell_type": "code",
   "execution_count": 214,
   "metadata": {},
   "outputs": [
    {
     "data": {
      "image/png": "[encoded data removed]",
      "text/plain": [
       "<Figure size 432x288 with 1 Axes>"
      ]
     },
     "metadata": {},
     "output_type": "display_data"
    }
   ],
   "source": [
    "lorenz(2000)"
   ]
  },
  {
   "cell_type": "markdown",
   "metadata": {
    "format": "text/markdown"
   },
   "source": [
    "Gini index\n",
    "==========\n",
    "\n",
    "The [Gini index](https://en.wikipedia.org/wiki/Gini_coefficient) is twice the surface of the area comprised between curves $y=x$\n",
    "and $y=L(x)$.\n",
    "\n",
    "Choose a formula that allows you to compute it efficiently.\n",
    "\n",
    "$$G={\\frac {2\\sum _{i=1}^{n}iy_{i}}{n\\sum _{i=1}^{n}y_{i}}}-{\\frac {n+1}{n}}.$$\n",
    "\n",
    "1. Design a query that computes the Gini index of the `babynames` distribution\n",
    "for every `year` and `sex`."
   ]
  },
  {
   "cell_type": "code",
   "execution_count": 216,
   "metadata": {},
   "outputs": [
    {
     "name": "stdout",
     "output_type": "stream",
     "text": [
      "+---+----+------------------+\n",
      "|sex|year|        Gini index|\n",
      "+---+----+------------------+\n",
      "|  F|1882|0.8189652429138425|\n",
      "|  F|2004|0.8645324270074577|\n",
      "|  M|1906|0.8349369123157035|\n",
      "|  M|1927|0.9228645614701203|\n",
      "|  M|1930|0.9229152204263169|\n",
      "|  M|1972|0.9316296865573575|\n",
      "|  M|1933|0.9204905215664196|\n",
      "|  M|1937|0.9242075165748531|\n",
      "|  M|1908|0.8415146506826996|\n",
      "|  M|1893|0.8402712485078678|\n",
      "+---+----+------------------+\n",
      "only showing top 10 rows\n",
      "\n"
     ]
    }
   ],
   "source": [
    "window2 = (Window.partitionBy('sex','year').orderBy(col(\"n\").asc())\n",
    "             .rowsBetween(Window.unboundedPreceding, Window.currentRow))\n",
    "\n",
    "df_gini = df_lorenz\\\n",
    "        .withColumn(\"i\", fn.row_number().over(window2))\\\n",
    "        .groupby('sex', 'year')\\\n",
    "        .agg((((2*fn.sum(col('i')*col('n')))/(fn.count('n')*fn.sum(col('n'))))\n",
    "                    -((fn.count(col('n'))+1)/(fn.count(col('n'))))).alias(\"Gini index\"))\n",
    "df_gini.show(10)"
   ]
  },
  {
   "cell_type": "markdown",
   "metadata": {
    "format": "text/markdown"
   },
   "source": [
    "2. Plot Gini index over time"
   ]
  },
  {
   "cell_type": "code",
   "execution_count": 219,
   "metadata": {
    "autoscroll": "auto",
    "options": {
     "caption": false,
     "complete": true,
     "display_data": true,
     "display_stream": true,
     "dpi": 200,
     "echo": true,
     "evaluate": false,
     "f_env": null,
     "f_pos": "htpb",
     "f_size": [
      6,
      4
     ],
     "f_spines": true,
     "fig": true,
     "include": true,
     "name": null,
     "option_string": "evaluate=False",
     "results": "verbatim",
     "term": false,
     "wrap": "output"
    }
   },
   "outputs": [
    {
     "data": {
      "text/plain": [
       "<matplotlib.axes._subplots.AxesSubplot at 0x1282ea5d0>"
      ]
     },
     "execution_count": 219,
     "metadata": {},
     "output_type": "execute_result"
    },
    {
     "data": {
      "image/png": "[encoded data removed]",
      "text/plain": [
       "<Figure size 432x288 with 1 Axes>"
      ]
     },
     "metadata": {},
     "output_type": "display_data"
    }
   ],
   "source": [
    "sns.lineplot(x = 'year', y = 'Gini index', hue='sex', data=df_gini.toPandas())"
   ]
  },
  {
   "cell_type": "markdown",
   "metadata": {
    "format": "text/markdown"
   },
   "source": [
    "\n",
    "\n",
    "\n",
    "Close the door, leave work area clean\n",
    "=====================================\n"
   ]
  },
  {
   "cell_type": "code",
   "execution_count": 237,
   "metadata": {},
   "outputs": [],
   "source": [
    "spark.stop()"
   ]
  }
 ],
 "metadata": {
  "kernel_info": {
   "name": "python3"
  },
  "kernelspec": {
   "display_name": "Python 3",
   "language": "python",
   "name": "python3"
  },
  "language_info": {
   "codemirror_mode": {
    "name": "ipython",
    "version": 3
   },
   "file_extension": ".py",
   "mimetype": "text/x-python",
   "name": "python",
   "nbconvert_exporter": "python",
   "pygments_lexer": "ipython3",
   "version": "3.7.4"
  },
  "toc": {
   "base_numbering": 1,
   "nav_menu": {},
   "number_sections": true,
   "sideBar": true,
   "skip_h1_title": false,
   "title_cell": "Table of Contents",
   "title_sidebar": "Contents",
   "toc_cell": false,
   "toc_position": {},
   "toc_section_display": true,
   "toc_window_display": false
  }
 },
 "nbformat": 4,
 "nbformat_minor": 1
}
